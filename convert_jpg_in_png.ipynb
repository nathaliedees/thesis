{
 "cells": [
  {
   "cell_type": "code",
   "execution_count": 2,
   "metadata": {
    "collapsed": true
   },
   "outputs": [],
   "source": [
    "import numpy as np\n",
    "import cv2\n",
    "import matplotlib.pyplot as plt\n",
    "import os \n",
    "from PIL import Image"
   ]
  },
  {
   "cell_type": "code",
   "execution_count": 5,
   "metadata": {
    "collapsed": false
   },
   "outputs": [
    {
     "name": "stdout",
     "output_type": "stream",
     "text": [
      "['E:\\\\Uni\\\\MasterThesis\\\\Data\\\\orthophotomosaic_curacao_new_512_jpg-1104_tiles\\\\output\\\\orthophotomosaic_curacao_512_jpg\\\\tile_0208.jpg', 'E:\\\\Uni\\\\MasterThesis\\\\Data\\\\orthophotomosaic_curacao_new_512_jpg-1104_tiles\\\\output\\\\orthophotomosaic_curacao_512_jpg\\\\tile_0234.jpg', 'E:\\\\Uni\\\\MasterThesis\\\\Data\\\\orthophotomosaic_curacao_new_512_jpg-1104_tiles\\\\output\\\\orthophotomosaic_curacao_512_jpg\\\\tile_0220.jpg']\n"
     ]
    }
   ],
   "source": [
    "start_path = 'E:\\\\Uni\\\\MasterThesis\\\\Data\\\\orthophotomosaic_curacao_new_512_jpg-1104_tiles\\\\output\\\\orthophotomosaic_curacao_512_jpg\\\\'\n",
    "end_path = 'E:\\\\Uni\\\\MasterThesis\\\\Data\\\\curacao\\\\'\n",
    "image_files = []\n",
    "filenames = os.listdir(start_path)\n",
    "for path,dirs,files in os.walk(start_path):\n",
    "    for filename in files:\n",
    "        image_files.append(os.path.join(path,filename))\n",
    "        \n",
    "print(image_files[:3])\n",
    "\n",
    "for i in range(len(filenames)):\n",
    "    im1=Image.open(start_path+filenames[i])\n",
    "    im1=im1.save(end_path+filenames[i][:-3]+'png')"
   ]
  }
 ],
 "metadata": {
  "kernelspec": {
   "display_name": "Python 3",
   "language": "python",
   "name": "python3"
  },
  "language_info": {
   "codemirror_mode": {
    "name": "ipython",
    "version": 3
   },
   "file_extension": ".py",
   "mimetype": "text/x-python",
   "name": "python",
   "nbconvert_exporter": "python",
   "pygments_lexer": "ipython3",
   "version": "3.6.0"
  }
 },
 "nbformat": 4,
 "nbformat_minor": 2
}
