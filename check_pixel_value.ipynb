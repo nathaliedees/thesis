{
 "cells": [
  {
   "cell_type": "code",
   "execution_count": 40,
   "metadata": {
    "collapsed": true
   },
   "outputs": [],
   "source": [
    "import numpy as np\n",
    "import cv2\n",
    "import matplotlib.pyplot as plt\n",
    "import os \n",
    "from PIL import Image"
   ]
  },
  {
   "cell_type": "code",
   "execution_count": 41,
   "metadata": {
    "collapsed": true
   },
   "outputs": [],
   "source": [
    "#E:\\Uni\\MasterThesis\\Data\\trainAnnotate"
   ]
  },
  {
   "cell_type": "code",
   "execution_count": 42,
   "metadata": {
    "collapsed": false
   },
   "outputs": [],
   "source": [
    "# function to get unique pixel values \n",
    "def pixel_values(list1): \n",
    "  \n",
    "    # intilize a null list \n",
    "    unique_list = [] \n",
    "      \n",
    "    # traverse for all elements \n",
    "    for x in list1: \n",
    "        # check if exists in unique_list or not \n",
    "        if x not in unique_list: \n",
    "            unique_list.append(x) \n",
    "    # print list \n",
    "    for x in unique_list: \n",
    "        print (x,) "
   ]
  },
  {
   "cell_type": "code",
   "execution_count": 43,
   "metadata": {
    "collapsed": false
   },
   "outputs": [
    {
     "name": "stdout",
     "output_type": "stream",
     "text": [
      "['augmented_1.png', 'augmented_2.png', 'augmented_3.png', 'augmented_4.png', 'augmented_5.png', 'augmented_6.png', 'augmented_7.png', 'augmented_8.png', 'augmented_9.png', 'augmented_10.png', 'augmented_11.png', 'augmented_12.png', 'augmented_13.png', 'augmented_14.png', 'augmented_15.png', 'augmented_16.png', 'augmented_17.png', 'augmented_18.png', 'augmented_19.png', 'augmented_20.png', 'augmented_21.png', 'augmented_22.png', 'augmented_23.png', 'augmented_24.png', 'augmented_25.png', 'augmented_26.png', 'augmented_27.png', 'augmented_28.png', 'augmented_29.png', 'augmented_30.png', 'augmented_31.png', 'augmented_32.png', 'augmented_33.png', 'augmented_34.png', 'augmented_35.png', 'augmented_36.png', 'augmented_37.png', 'augmented_38.png', 'augmented_39.png', 'augmented_40.png', 'augmented_41.png', 'augmented_42.png', 'augmented_43.png', 'augmented_44.png', 'augmented_45.png', 'augmented_46.png', 'augmented_47.png', 'augmented_48.png', 'augmented_49.png', 'augmented_50.png', 'augmented_51.png', 'augmented_52.png', 'augmented_53.png', 'augmented_54.png', 'augmented_55.png', 'augmented_56.png', 'augmented_57.png', 'augmented_58.png', 'augmented_59.png', 'augmented_60.png', 'augmented_61.png', 'augmented_62.png', 'augmented_63.png', 'augmented_64.png', 'augmented_65.png', 'augmented_66.png', 'augmented_67.png', 'augmented_68.png', 'augmented_69.png', 'augmented_70.png', 'augmented_71.png', 'augmented_72.png', 'augmented_73.png', 'augmented_74.png', 'augmented_75.png', 'augmented_76.png', 'augmented_77.png', 'augmented_78.png', 'augmented_79.png', 'augmented_80.png', 'augmented_81.png', 'augmented_82.png', 'augmented_83.png', 'augmented_84.png', 'augmented_85.png', 'augmented_86.png', 'augmented_87.png', 'augmented_88.png', 'augmented_89.png', 'augmented_90.png', 'augmented_91.png', 'augmented_92.png', 'augmented_93.png', 'augmented_94.png', 'augmented_95.png', 'augmented_96.png', 'augmented_97.png', 'augmented_98.png', 'augmented_99.png', 'augmented_100.png', 'augmented_101.png', 'augmented_102.png', 'augmented_103.png', 'augmented_104.png', 'augmented_105.png', 'augmented_106.png', 'augmented_107.png', 'augmented_108.png', 'augmented_109.png', 'augmented_110.png', 'augmented_111.png', 'augmented_112.png', 'augmented_113.png', 'augmented_114.png', 'augmented_115.png', 'augmented_116.png', 'augmented_117.png', 'augmented_118.png', 'augmented_119.png', 'augmented_120.png', 'augmented_121.png', 'augmented_122.png', 'augmented_123.png', 'augmented_124.png', 'augmented_125.png', 'augmented_126.png', 'augmented_127.png', 'augmented_128.png', 'augmented_129.png', 'augmented_130.png']\n"
     ]
    }
   ],
   "source": [
    "start_path = 'E:\\\\Uni\\\\MasterThesis\\\\Data\\\\trainAnnotate\\\\output\\\\' # current directory\n",
    "#data_path = 'E:\\\\Uni\\\\MasterThesis\\\\Data\\\\trainData\\\\'\n",
    "image_files = []\n",
    "data_files = []\n",
    "filenames = os.listdir(start_path)\n",
    "\n",
    "for path,dirs,files in os.walk(start_path):\n",
    "    for filename in files:\n",
    "        image_files.append(os.path.join(path,filename))\n",
    "        \n",
    "#print list of image files        \n",
    "#print(datafilename)\n",
    "print(filenames)"
   ]
  },
  {
   "cell_type": "code",
   "execution_count": 44,
   "metadata": {
    "collapsed": false
   },
   "outputs": [
    {
     "name": "stdout",
     "output_type": "stream",
     "text": [
      "saved all files\n"
     ]
    }
   ],
   "source": [
    "#all in one loop\n",
    "#len(image_files)\n",
    "for i in range(len(image_files)):\n",
    "    image = cv2.imread(image_files[i])\n",
    "    gray = cv2.cvtColor(image, cv2.COLOR_BGR2GRAY)\n",
    "    \n",
    "    #Isolate the different classes\n",
    "    nodata=np.where(gray==255)\n",
    "    coral=np.where(gray==80) #1\n",
    "    rubble=np.where(gray==149)#2\n",
    "    sand_shallow=np.where(gray==196)#3\n",
    "    rock=np.where(gray==114)#4\n",
    "    waves=np.where(gray==127)#5\n",
    "\n",
    "    #give classes the correct label\n",
    "    gray[nodata]=(0)\n",
    "    gray[coral]=(1) #80\n",
    "    gray[rubble]=(2)#149\n",
    "    gray[sand_shallow]=(3)#196\n",
    "    gray[rock]=(4)#114\n",
    "    gray[waves]=(5)#127\n",
    "    \n",
    "    #save files (what data format is needed)\n",
    "    cv2.imwrite(start_path + filenames[i], gray) #jpg\n",
    "   # cv2.imwrite(start_path + filenames[i][:-15] +'.png', gray) #png\n",
    "\n",
    "#for i in range(len(data_files)):\n",
    "    #im1=Image.open(data_path+datafileNames[i])\n",
    "   # im1=im1.save(data_path+datafileNames[i][:-3]+'png')\n",
    "    \n",
    "print(\"saved all files\")"
   ]
  },
  {
   "cell_type": "code",
   "execution_count": 45,
   "metadata": {
    "collapsed": false
   },
   "outputs": [
    {
     "name": "stdout",
     "output_type": "stream",
     "text": [
      "[[[0 0 0]\n",
      "  [0 0 0]\n",
      "  [0 0 0]\n",
      "  ..., \n",
      "  [0 0 0]\n",
      "  [0 0 0]\n",
      "  [0 0 0]]\n",
      "\n",
      " [[0 0 0]\n",
      "  [3 3 3]\n",
      "  [3 3 3]\n",
      "  ..., \n",
      "  [3 3 3]\n",
      "  [3 3 3]\n",
      "  [0 0 0]]\n",
      "\n",
      " [[0 0 0]\n",
      "  [3 3 3]\n",
      "  [3 3 3]\n",
      "  ..., \n",
      "  [3 3 3]\n",
      "  [3 3 3]\n",
      "  [0 0 0]]\n",
      "\n",
      " ..., \n",
      " [[0 0 0]\n",
      "  [3 3 3]\n",
      "  [3 3 3]\n",
      "  ..., \n",
      "  [2 2 2]\n",
      "  [2 2 2]\n",
      "  [0 0 0]]\n",
      "\n",
      " [[0 0 0]\n",
      "  [3 3 3]\n",
      "  [3 3 3]\n",
      "  ..., \n",
      "  [2 2 2]\n",
      "  [2 2 2]\n",
      "  [0 0 0]]\n",
      "\n",
      " [[0 0 0]\n",
      "  [0 0 0]\n",
      "  [0 0 0]\n",
      "  ..., \n",
      "  [0 0 0]\n",
      "  [0 0 0]\n",
      "  [0 0 0]]]\n"
     ]
    }
   ],
   "source": [
    "im = cv2.imread(image_files[2])\n",
    "print(im)\n",
    "#im2=Image.open(data_path+'tile_0002.jpg')\n",
    "#im2=im2.save(data_path+'tile_0002test.png')\n",
    "\n",
    "#im3=cv2.imread(data_path+'tile_0002test.png')\n",
    "#plt.imshow(im3)\n",
    "#plt.show()"
   ]
  },
  {
   "cell_type": "code",
   "execution_count": 46,
   "metadata": {
    "collapsed": true
   },
   "outputs": [],
   "source": [
    "#rest of the cells are for checking the changes"
   ]
  },
  {
   "cell_type": "code",
   "execution_count": 50,
   "metadata": {
    "collapsed": false
   },
   "outputs": [
    {
     "name": "stdout",
     "output_type": "stream",
     "text": [
      "[[[0 0 0]\n",
      "  [0 0 0]\n",
      "  [0 0 0]\n",
      "  ..., \n",
      "  [0 0 0]\n",
      "  [0 0 0]\n",
      "  [0 0 0]]\n",
      "\n",
      " [[0 0 0]\n",
      "  [3 3 3]\n",
      "  [3 3 3]\n",
      "  ..., \n",
      "  [2 2 2]\n",
      "  [2 2 2]\n",
      "  [0 0 0]]\n",
      "\n",
      " [[0 0 0]\n",
      "  [3 3 3]\n",
      "  [3 3 3]\n",
      "  ..., \n",
      "  [2 2 2]\n",
      "  [2 2 2]\n",
      "  [0 0 0]]\n",
      "\n",
      " ..., \n",
      " [[0 0 0]\n",
      "  [3 3 3]\n",
      "  [3 3 3]\n",
      "  ..., \n",
      "  [3 3 3]\n",
      "  [3 3 3]\n",
      "  [0 0 0]]\n",
      "\n",
      " [[0 0 0]\n",
      "  [3 3 3]\n",
      "  [3 3 3]\n",
      "  ..., \n",
      "  [3 3 3]\n",
      "  [3 3 3]\n",
      "  [0 0 0]]\n",
      "\n",
      " [[0 0 0]\n",
      "  [0 0 0]\n",
      "  [0 0 0]\n",
      "  ..., \n",
      "  [0 0 0]\n",
      "  [0 0 0]\n",
      "  [0 0 0]]]\n"
     ]
    }
   ],
   "source": [
    "image = cv2.imread(image_files[7])\n",
    "print(image) # if it says None there is a problem reading the image"
   ]
  },
  {
   "cell_type": "code",
   "execution_count": 48,
   "metadata": {
    "collapsed": false
   },
   "outputs": [
    {
     "data": {
      "image/png": "[encoded data removed]",
      "text/plain": [
       "<matplotlib.figure.Figure at 0x15c2e4a87f0>"
      ]
     },
     "metadata": {},
     "output_type": "display_data"
    }
   ],
   "source": [
    "#plot grayscale to see pixel values between 0 and 255\n",
    "gray = cv2.cvtColor(image, cv2.COLOR_BGR2GRAY)\n",
    "#cv2.imshow('Gray image', gray)\n",
    "plt.imshow(gray)\n",
    "plt.show()"
   ]
  },
  {
   "cell_type": "code",
   "execution_count": 49,
   "metadata": {
    "collapsed": false
   },
   "outputs": [
    {
     "name": "stdout",
     "output_type": "stream",
     "text": [
      "Pixel Values:\n",
      " corals 2 \n",
      "Waves 3\n",
      "Rubble 3 \n",
      "Sand/Shallow 3 \n",
      "Rock none\n",
      "\n",
      "Pixel values are:\n",
      "0\n",
      "3\n",
      "2\n",
      "1\n"
     ]
    }
   ],
   "source": [
    "#find out which class corresponds to which class\n",
    "print(\"Pixel Values:\\n\", \"corals\", gray[100,500], \"\\nWaves\", gray[450,250])\n",
    "print(\"Rubble\", gray[500,500], \"\\nSand/Shallow\", gray[500,400], \"\\nRock\", \"none\")\n",
    "#print(gray)\n",
    "grayVec=np.reshape(gray, -1)\n",
    "#find out pixel values, can be used as check afterwards\n",
    "print(\"\\nPixel values are:\")\n",
    "pixel_values(grayVec)"
   ]
  },
  {
   "cell_type": "code",
   "execution_count": null,
   "metadata": {
    "collapsed": true
   },
   "outputs": [],
   "source": []
  }
 ],
 "metadata": {
  "kernelspec": {
   "display_name": "Python 3",
   "language": "python",
   "name": "python3"
  },
  "language_info": {
   "codemirror_mode": {
    "name": "ipython",
    "version": 3
   },
   "file_extension": ".py",
   "mimetype": "text/x-python",
   "name": "python",
   "nbconvert_exporter": "python",
   "pygments_lexer": "ipython3",
   "version": "3.6.0"
  }
 },
 "nbformat": 4,
 "nbformat_minor": 2
}
